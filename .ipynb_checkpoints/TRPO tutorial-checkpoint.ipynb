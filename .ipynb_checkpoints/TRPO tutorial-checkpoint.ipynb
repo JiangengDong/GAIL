{
 "cells": [
  {
   "cell_type": "markdown",
   "metadata": {},
   "source": [
    "# Tutorial of TRPO"
   ]
  },
  {
   "cell_type": "markdown",
   "metadata": {},
   "source": [
    "我最近在做一个机器人模型学习的课题，需要实现GAIL算法，其中涉及到TRPO。在被它反复折腾了一周之后终于完成了，感觉用jupyter写一些详细的注释，防止时间长了忘记代码的细节。"
   ]
  },
  {
   "cell_type": "code",
   "execution_count": null,
   "metadata": {},
   "outputs": [],
   "source": [
    "import tensorflow as tf\n",
    "import numpy as np\n",
    "import gym\n",
    "import glob\n",
    "from numpy import (sqrt, arctan2, arccos)\n",
    "from numpy import pi as PI\n",
    "# these are module written by myself\n",
    "from multiLayerPolicy import MultiLayerPolicy\n",
    "from discriminator import Discriminator\n",
    "from generator import Generator\n",
    "from pid import PIDPolicy\n",
    "from util import (env_wrapper, logger)"
   ]
  },
  {
   "cell_type": "markdown",
   "metadata": {},
   "source": [
    "## Conjugate Gradient"
   ]
  },
  {
   "cell_type": "markdown",
   "metadata": {},
   "source": [
    "共轭梯度法（conjugate gradient，CG）是用来求解形如$A\\boldsymbol{x}=b$的方程的一种方法，在$A^{-1}$很难求解时可以发挥很大作用。而TRPO中$D_{KL}$关于所有神经网络参数的二阶偏导矩阵（Hessian矩阵）就是这样一个矩阵。$H$矩阵规模非常庞大，而且每次迭代之后都会变化，求逆速度慢而且得不偿失，使用CG法是一种很好的办法。"
   ]
  },
  {
   "cell_type": "markdown",
   "metadata": {},
   "source": [
    "CG法的思路是通过迭代减小$Ax$和$b$之间的误差，具体步骤是：\n",
    "* $ x_0= 0 $ （$x_0$可以为任意值，通常从0开始）\n",
    "* $ r_0 = b - A x_0 $ \n",
    "* $ d_0 = r_0 $ \n",
    "* while $r_k$ is not small enough:\n",
    "    + $ \\alpha_k = \\frac{r_k^T r_k}{d_k^T A d_k} $\n",
    "    + $ x_{k+1} = x_k + \\alpha_k d_k $\n",
    "    + $ r_{k+1} = b - A x_{k+1} = b - A(x_k + \\alpha_k d_k) = r_k - \\alpha_k A d_k $\n",
    "    + $ \\beta_k = \\frac{r_{k+1}^T r_{k+1}}{r_k^T r_k} $\n",
    "    + $ d_{k+1} = r_{k+1} + \\beta_k d_k $\n",
    "* the result is $x_k$"
   ]
  },
  {
   "cell_type": "code",
   "execution_count": 1,
   "metadata": {},
   "outputs": [],
   "source": [
    "def cg(f_Ax, b, cg_iters=10, residual_tol=1e-10):\n",
    "    \"\"\"Conjunct gradient method.\"\"\"\n",
    "    p = b.copy()\n",
    "    r = b.copy()\n",
    "    x = np.zeros_like(b)\n",
    "    rdotr = r.dot(r)\n",
    "\n",
    "    for i in range(cg_iters):\n",
    "        z = f_Ax(p)\n",
    "        v = rdotr / p.dot(z)\n",
    "        x += v * p\n",
    "        r -= v * z\n",
    "        newrdotr = r.dot(r)\n",
    "        mu = newrdotr / rdotr\n",
    "        p = r + mu * p\n",
    "\n",
    "        rdotr = newrdotr\n",
    "        if rdotr < residual_tol:\n",
    "            break\n",
    "\n",
    "    return x"
   ]
  }
 ],
 "metadata": {
  "kernelspec": {
   "display_name": "Python 3",
   "language": "python",
   "name": "python3"
  },
  "language_info": {
   "codemirror_mode": {
    "name": "ipython",
    "version": 3
   },
   "file_extension": ".py",
   "mimetype": "text/x-python",
   "name": "python",
   "nbconvert_exporter": "python",
   "pygments_lexer": "ipython3",
   "version": "3.6.3"
  },
  "toc": {
   "base_numbering": 1,
   "nav_menu": {},
   "number_sections": true,
   "sideBar": true,
   "skip_h1_title": false,
   "title_cell": "Table of Contents",
   "title_sidebar": "Contents",
   "toc_cell": false,
   "toc_position": {},
   "toc_section_display": true,
   "toc_window_display": false
  }
 },
 "nbformat": 4,
 "nbformat_minor": 2
}
